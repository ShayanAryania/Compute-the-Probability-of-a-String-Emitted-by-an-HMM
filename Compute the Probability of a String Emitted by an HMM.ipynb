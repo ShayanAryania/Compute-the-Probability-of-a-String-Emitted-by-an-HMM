{
 "cells": [
  {
   "cell_type": "code",
   "execution_count": 1,
   "metadata": {},
   "outputs": [],
   "source": [
    "def generate_mapping(file):\n",
    "    return dict((state, i) for i, state in enumerate(file.readline().split()))"
   ]
  },
  {
   "cell_type": "code",
   "execution_count": 2,
   "metadata": {},
   "outputs": [],
   "source": [
    "def parse_transition_matrix(file):\n",
    "    states = file.readline().split()\n",
    "    transitionMatrix = [list(map(float, file.readline().split()[1:])) for _ in range(len(states))]\n",
    "    return transitionMatrix"
   ]
  },
  {
   "cell_type": "code",
   "execution_count": 3,
   "metadata": {},
   "outputs": [],
   "source": [
    "def parse_emission_matrix(file):\n",
    "    file.readline()\n",
    "    E = [list(map(float, line.split()[1:])) for line in file.readlines()]\n",
    "    return E"
   ]
  },
  {
   "cell_type": "code",
   "execution_count": 4,
   "metadata": {},
   "outputs": [],
   "source": [
    "def forward_matrix(X, Z, S, A, E):\n",
    "    F = [[0] * len(X) for _ in range(len(S))]\n",
    "    for k in range(len(S)):\n",
    "        F[k][0] = 1.0 / len(S) * E[k][Z[X[0]]] \n",
    "    for i in range(len(X) - 1):\n",
    "        for k in range(len(S)):\n",
    "            F[k][i+1] = E[k][Z[X[i+1]]] * sum(F[l][i] * A[l][k] for l in range(len(S)))\n",
    "    return F"
   ]
  },
  {
   "cell_type": "code",
   "execution_count": 7,
   "metadata": {},
   "outputs": [],
   "source": [
    "with open('/Users/shayanaryania/Desktop/University/Rosalind/Compute_the_Probability_of_a_String_Emitted_by_an_HMM/rosalind_ba10d.txt') as file:\n",
    "    X = file.readline().strip()\n",
    "    file.readline()\n",
    "    Z = generate_mapping(file)\n",
    "    file.readline()\n",
    "    S = generate_mapping(file)\n",
    "    file.readline()\n",
    "    A = parse_transition_matrix(file)\n",
    "    file.readline()\n",
    "    E = parse_emission_matrix(file)\n",
    "    F = forward_matrix(X, Z, S, A, E) "
   ]
  },
  {
   "cell_type": "code",
   "execution_count": 8,
   "metadata": {},
   "outputs": [
    {
     "name": "stdout",
     "output_type": "stream",
     "text": [
      "7.212644161326873e-49\n"
     ]
    }
   ],
   "source": [
    "print(sum(F[k][-1] for k in range(len(S))))"
   ]
  },
  {
   "cell_type": "code",
   "execution_count": null,
   "metadata": {},
   "outputs": [],
   "source": []
  }
 ],
 "metadata": {
  "kernelspec": {
   "display_name": "Python 3",
   "language": "python",
   "name": "python3"
  },
  "language_info": {
   "codemirror_mode": {
    "name": "ipython",
    "version": 3
   },
   "file_extension": ".py",
   "mimetype": "text/x-python",
   "name": "python",
   "nbconvert_exporter": "python",
   "pygments_lexer": "ipython3",
   "version": "3.11.4"
  }
 },
 "nbformat": 4,
 "nbformat_minor": 2
}
